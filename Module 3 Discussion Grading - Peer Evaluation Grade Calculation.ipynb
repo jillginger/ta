{
 "cells": [
  {
   "cell_type": "markdown",
   "metadata": {},
   "source": [
    "# Module 3 Discussion Grading - Peer Evaluation Grade Calculation\n",
    "Jing Jiang\n",
    "\n",
    "2021-10-31"
   ]
  },
  {
   "cell_type": "markdown",
   "metadata": {},
   "source": [
    "## Objective\n",
    "\n",
    "The objective of this file is to append all submitted peer-evaluation forms."
   ]
  },
  {
   "cell_type": "markdown",
   "metadata": {},
   "source": [
    "## Data Description\n",
    "\n",
    "Excel files downloaded from Canvas were used. Some students submtited Excel files, but changed the format of the table. It's adjusted mannually. \n",
    "\n",
    "Submissions with wrong group numbers (such as Group number = 10) are excluded.\n",
    "\n",
    "Submissions with wrong names where the errors cannot be parsed by me were excluded.\n"
   ]
  },
  {
   "cell_type": "code",
   "execution_count": 13,
   "metadata": {},
   "outputs": [
    {
     "name": "stdout",
     "output_type": "stream",
     "text": [
      "C:\\Users\\jillb\\OneDrive - UBC\\CONS 302 TA 2021Fall\\grading\\module 3\\new\n"
     ]
    }
   ],
   "source": [
    "cd C:\\Users\\jillb\\OneDrive - UBC\\CONS 302 TA 2021Fall\\grading\\module 3\\new"
   ]
  },
  {
   "cell_type": "code",
   "execution_count": 2,
   "metadata": {
    "scrolled": false
   },
   "outputs": [],
   "source": [
    "import os\n",
    "import glob\n",
    "\n",
    "os.chdir(r'C:\\Users\\jillb\\OneDrive - UBC\\CONS 302 TA 2021Fall\\grading\\module 3\\new')\n",
    "FileList = glob.glob('*.xlsx')\n"
   ]
  },
  {
   "cell_type": "code",
   "execution_count": 3,
   "metadata": {},
   "outputs": [],
   "source": [
    "import pandas as pd"
   ]
  },
  {
   "cell_type": "markdown",
   "metadata": {},
   "source": [
    "Loop through all Excel files, append all rows together (Columns should be the same)\n",
    "\n",
    "Issue: \"File is not a recognized excel file\".\n",
    "\n",
    "Debug process: Checked Pandas documentation; Tried different attributes (concat, append, etc); Deleted \",\" and \"+\" from Excel names; Renamed all Excel files as numbers. Did not work. Then suspected some files were corrupted. Re-downloaded all submissions from Canvas. Did not work. Moved all Excel files to a new directory, renamed the directory so that it does not have the same name with the deleted compressed folder. Did not work. Then ordered all students' Excel files based on the file size. One student's file is extradionarily smaller than everyone else's. Tried to open it mannually, but could not open because \"the file extension or file format is not valid\". Deleted that file.\n",
    "\n",
    "Then it worked.\n",
    "\n"
   ]
  },
  {
   "cell_type": "code",
   "execution_count": 14,
   "metadata": {},
   "outputs": [],
   "source": [
    "finalexcelsheet = pd.DataFrame()\n",
    "\n",
    "for File in FileList:\n",
    "  \n",
    "    # combining multiple excel worksheets \n",
    "    # into single data frames\n",
    "    df = pd.concat(pd.read_excel(File, sheet_name=None),\n",
    "                   ignore_index=True, sort=False)\n",
    "      \n",
    "    # Appending excel files one by one\n",
    "    finalexcelsheet = finalexcelsheet.append(\n",
    "      df, ignore_index=True)"
   ]
  },
  {
   "cell_type": "code",
   "execution_count": 15,
   "metadata": {
    "scrolled": true
   },
   "outputs": [
    {
     "name": "stdout",
     "output_type": "stream",
     "text": [
      "C:\\Users\\jillb\\OneDrive - UBC\\CONS 302 TA 2021Fall\\grading\\module 3\n"
     ]
    }
   ],
   "source": [
    "cd C:\\Users\\jillb\\OneDrive - UBC\\CONS 302 TA 2021Fall\\grading\\module 3"
   ]
  },
  {
   "cell_type": "code",
   "execution_count": 16,
   "metadata": {},
   "outputs": [],
   "source": [
    "finalexcelsheet.to_excel(r'Final.xlsx', index=False)"
   ]
  },
  {
   "cell_type": "markdown",
   "metadata": {},
   "source": [
    "Note:\n",
    "\n",
    "Many repetitive columns occurred because some students changed the column names. Told them not to but still did. Maybe some students' Excel automatically change that? I rememeber I had similar issues with Excel automatically change the date format, resulting in errors in REDCap data updating. Probably I should just make Column names' first letter upper case for everyone.\n",
    "\n",
    "Some new column occurred because students added notes to empty columns. Considering students would like to give reasons to why their teammates deserve the score, I should probably make next time's sample Excel file consist of a column named \"notes\".\n",
    "\n",
    "\n",
    "\n"
   ]
  }
 ],
 "metadata": {
  "kernelspec": {
   "display_name": "Python 3",
   "language": "python",
   "name": "python3"
  },
  "language_info": {
   "codemirror_mode": {
    "name": "ipython",
    "version": 3
   },
   "file_extension": ".py",
   "mimetype": "text/x-python",
   "name": "python",
   "nbconvert_exporter": "python",
   "pygments_lexer": "ipython3",
   "version": "3.8.8"
  }
 },
 "nbformat": 4,
 "nbformat_minor": 2
}
